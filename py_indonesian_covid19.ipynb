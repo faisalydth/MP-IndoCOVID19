{
 "cells": [
  {
   "cell_type": "markdown",
   "id": "b89055a7-5125-4499-b85a-5f16f2d779bb",
   "metadata": {},
   "source": [
    "**DATA PROCESSING: INDONESIAN COVID-19 CASES** by Faisal Adam Yudithia"
   ]
  },
  {
   "cell_type": "markdown",
   "id": "78666320-dbdf-4bca-bc97-690002acd3f0",
   "metadata": {},
   "source": [
    "# A. DATA COLLECTION & UNDERSTANDING"
   ]
  },
  {
   "cell_type": "markdown",
   "id": "6206024e-0e5c-4e6a-a7f6-e60bd90943d7",
   "metadata": {},
   "source": [
    "Import all packages needed."
   ]
  },
  {
   "cell_type": "code",
   "execution_count": 1,
   "id": "46892a83-777f-443c-ad82-9fa407c58b85",
   "metadata": {},
   "outputs": [],
   "source": [
    "import requests as rq\n",
    "import json\n",
    "import pandas as pd\n",
    "import datetime as dt\n",
    "import matplotlib.pyplot as plt"
   ]
  },
  {
   "cell_type": "markdown",
   "id": "a8061b90-ee17-404a-921b-732c40334b52",
   "metadata": {
    "tags": []
   },
   "source": [
    "## A.1. Get the Indonesian COVID-19 Public Data in JSON Format"
   ]
  },
  {
   "cell_type": "code",
   "execution_count": 2,
   "id": "17e19107-6363-47b5-8776-41ed6e89e22f",
   "metadata": {},
   "outputs": [
    {
     "name": "stdout",
     "output_type": "stream",
     "text": [
      "Date of Access : Tue, 16 Nov 2021 08:30:26 GMT\n",
      "Content Type : application/json\n"
     ]
    }
   ],
   "source": [
    "# Get the puplic data by request from the server\n",
    "resp = rq.get('https://data.covid19.go.id/public/api/update.json')\n",
    "\n",
    "# View the server’s response headers\n",
    "print('Date of Access : ' + resp.headers['Date'])\n",
    "print('Content Type : ' + resp.headers['Content-Type'])\n",
    "\n",
    "# Get the content of the data\n",
    "data_json = resp.content"
   ]
  },
  {
   "cell_type": "markdown",
   "id": "17a3a681-b16d-436d-972e-2371e19ffbd3",
   "metadata": {},
   "source": [
    "## A.2. Convert the Data Content in JSON Format to Python"
   ]
  },
  {
   "cell_type": "code",
   "execution_count": 3,
   "id": "1f2ddc61-9755-479f-a55f-4917c16a5607",
   "metadata": {},
   "outputs": [],
   "source": [
    "# Convert the data format from JSON to Python\n",
    "data_py = json.loads(data_json)"
   ]
  },
  {
   "cell_type": "markdown",
   "id": "5101c1c6-35cc-41b4-94c7-8d468a8c4339",
   "metadata": {},
   "source": [
    "## A.3. Exploring the Data Content"
   ]
  },
  {
   "cell_type": "markdown",
   "id": "6a9880b7-11de-42a9-b55a-cd468ec61aa1",
   "metadata": {},
   "source": [
    "### A.3.1. Get the Dictionary Keys"
   ]
  },
  {
   "cell_type": "code",
   "execution_count": 4,
   "id": "3a053325-70d3-45c3-8f58-c2064389801d",
   "metadata": {},
   "outputs": [
    {
     "name": "stdout",
     "output_type": "stream",
     "text": [
      "List of Keys:\n",
      "- data\n",
      "- update\n"
     ]
    }
   ],
   "source": [
    "# View the key list of the data in dictionary data type\n",
    "print('List of Keys:')\n",
    "for k in dict.keys(data_py):\n",
    "    print('- ' + k)"
   ]
  },
  {
   "cell_type": "code",
   "execution_count": 5,
   "id": "84450639-ab2a-49c0-a42d-24a9bf64ea32",
   "metadata": {},
   "outputs": [
    {
     "name": "stdout",
     "output_type": "stream",
     "text": [
      "List of Keys:\n",
      "- id\n",
      "- jumlah_odp\n",
      "- jumlah_pdp\n",
      "- total_spesimen\n",
      "- total_spesimen_negatif\n"
     ]
    }
   ],
   "source": [
    "# View the key list of the 'data' key inside the data\n",
    "print('List of Keys:')\n",
    "for k in dict.keys(data_py['data']):\n",
    "    print('- ' + k)"
   ]
  },
  {
   "cell_type": "code",
   "execution_count": 6,
   "id": "fb54e35d-c428-4937-90dc-5b0a28c34778",
   "metadata": {},
   "outputs": [
    {
     "name": "stdout",
     "output_type": "stream",
     "text": [
      "List of Keys:\n",
      "- penambahan\n",
      "- harian\n",
      "- total\n"
     ]
    }
   ],
   "source": [
    "# View the key list of the 'update' key inside the data\n",
    "print('List of Keys:')\n",
    "for k in dict.keys(data_py['update']):\n",
    "    print('- ' + k)"
   ]
  },
  {
   "cell_type": "code",
   "execution_count": 7,
   "id": "ec275934-0948-4691-becf-d1fb433e4ebe",
   "metadata": {},
   "outputs": [
    {
     "name": "stdout",
     "output_type": "stream",
     "text": [
      "List of Keys:\n",
      "- key_as_string\n",
      "- key\n",
      "- doc_count\n",
      "- jumlah_meninggal\n",
      "- jumlah_sembuh\n",
      "- jumlah_positif\n",
      "- jumlah_dirawat\n",
      "- jumlah_positif_kum\n",
      "- jumlah_sembuh_kum\n",
      "- jumlah_meninggal_kum\n",
      "- jumlah_dirawat_kum\n"
     ]
    }
   ],
   "source": [
    "# View the key list of the 'harian' key inside the 'update' key\n",
    "print('List of Keys:')\n",
    "for k in dict.keys(data_py['update']['harian'][0]):\n",
    "    print('- ' + k)"
   ]
  },
  {
   "cell_type": "markdown",
   "id": "e314bcb1-3b3b-46e2-bccd-0e9c5f17c6af",
   "metadata": {},
   "source": [
    "### A.3.2 Get the Keys and Their Values"
   ]
  },
  {
   "cell_type": "code",
   "execution_count": 8,
   "id": "0780f3d8-b51e-4d4f-8307-bd247d6863e5",
   "metadata": {},
   "outputs": [
    {
     "name": "stdout",
     "output_type": "stream",
     "text": [
      "Total Specimen:\n",
      "- id 1\n",
      "- jumlah_odp 3845\n",
      "- jumlah_pdp 0\n",
      "- total_spesimen 50382458\n",
      "- total_spesimen_negatif 40800748\n"
     ]
    }
   ],
   "source": [
    "# Get the information of total specimen\n",
    "print('Total Specimen:')\n",
    "for k, v in data_py['data'].items():\n",
    "    print('- ' + k, v)"
   ]
  },
  {
   "cell_type": "code",
   "execution_count": 9,
   "id": "3bd8f378-d21a-43d5-a4dc-70a5ea4035d2",
   "metadata": {},
   "outputs": [
    {
     "name": "stdout",
     "output_type": "stream",
     "text": [
      "Total Cases:\n",
      "- jumlah_positif 4251076\n",
      "- jumlah_dirawat 8522\n",
      "- jumlah_sembuh 4098884\n",
      "- jumlah_meninggal 143670\n"
     ]
    }
   ],
   "source": [
    "# Get the information of total cases\n",
    "print('Total Cases:')\n",
    "for k, v in data_py['update']['total'].items():\n",
    "    print('- ' + k, v)"
   ]
  },
  {
   "cell_type": "code",
   "execution_count": 10,
   "id": "830d1c9e-4c8d-435d-8955-98fd6592b91c",
   "metadata": {},
   "outputs": [
    {
     "name": "stdout",
     "output_type": "stream",
     "text": [
      "Last Case Addition:\n",
      "- jumlah_positif 221\n",
      "- jumlah_meninggal 11\n",
      "- jumlah_sembuh 706\n",
      "- jumlah_dirawat -496\n",
      "- tanggal 2021-11-15\n",
      "- created 2021-11-15 17:12:28\n"
     ]
    }
   ],
   "source": [
    "# Get the information of last case addition\n",
    "print('Last Case Addition:')\n",
    "for k, v in data_py['update']['penambahan'].items():\n",
    "    print('- ' + k, v)"
   ]
  },
  {
   "cell_type": "markdown",
   "id": "b9265b82-54da-468b-a015-2407012cccdd",
   "metadata": {},
   "source": [
    "### A.3.3. Hindsight"
   ]
  },
  {
   "cell_type": "code",
   "execution_count": 11,
   "id": "46d423dd-e7b1-4fa9-94fb-b723f5e0809f",
   "metadata": {},
   "outputs": [
    {
     "name": "stdout",
     "output_type": "stream",
     "text": [
      "Cases increase percentage:\n",
      "Positive cases: 0.005%\n",
      "Recovered cases: 0.017%\n",
      "Recovered cases: 0.008%\n"
     ]
    }
   ],
   "source": [
    "print('Cases increase percentage:')\n",
    "\n",
    "# Positive cases increase percentage\n",
    "print('Positive cases: ' + str(round(data_py['update']['penambahan']['jumlah_positif'] / data_py['update']['total']['jumlah_positif'] * 100, 3)) + '%')\n",
    "\n",
    "# Recovered cases increase percentage\n",
    "print('Recovered cases: ' + str(round(data_py['update']['penambahan']['jumlah_sembuh'] / data_py['update']['total']['jumlah_sembuh'] * 100, 3)) + '%')\n",
    "\n",
    "# Positive cases increase percentage\n",
    "print('Recovered cases: ' + str(round(data_py['update']['penambahan']['jumlah_meninggal'] / data_py['update']['total']['jumlah_meninggal'] * 100, 3)) + '%')"
   ]
  },
  {
   "cell_type": "markdown",
   "id": "fe542a8a-8439-4825-bbe6-9f4836077b39",
   "metadata": {},
   "source": [
    "# B. DATA PREPARATION"
   ]
  },
  {
   "cell_type": "markdown",
   "id": "c6649c8a-e352-4b00-85c8-8d34f9d1c3c1",
   "metadata": {},
   "source": [
    "## B.1. Import the Daily Cases Data to Pandas DataFrame"
   ]
  },
  {
   "cell_type": "code",
   "execution_count": 12,
   "id": "f638ff1d-19f0-45d1-a465-9ac0084a5d0e",
   "metadata": {},
   "outputs": [
    {
     "data": {
      "text/html": [
       "<div>\n",
       "<style scoped>\n",
       "    .dataframe tbody tr th:only-of-type {\n",
       "        vertical-align: middle;\n",
       "    }\n",
       "\n",
       "    .dataframe tbody tr th {\n",
       "        vertical-align: top;\n",
       "    }\n",
       "\n",
       "    .dataframe thead th {\n",
       "        text-align: right;\n",
       "    }\n",
       "</style>\n",
       "<table border=\"1\" class=\"dataframe\">\n",
       "  <thead>\n",
       "    <tr style=\"text-align: right;\">\n",
       "      <th></th>\n",
       "      <th>tanggal</th>\n",
       "      <th>key</th>\n",
       "      <th>doc_count</th>\n",
       "      <th>jumlah_meninggal</th>\n",
       "      <th>jumlah_sembuh</th>\n",
       "      <th>jumlah_positif</th>\n",
       "      <th>jumlah_dirawat</th>\n",
       "      <th>jumlah_positif_kum</th>\n",
       "      <th>jumlah_sembuh_kum</th>\n",
       "      <th>jumlah_meninggal_kum</th>\n",
       "      <th>jumlah_dirawat_kum</th>\n",
       "    </tr>\n",
       "  </thead>\n",
       "  <tbody>\n",
       "    <tr>\n",
       "      <th>133</th>\n",
       "      <td>2020-07-13 00:00:00+00:00</td>\n",
       "      <td>1594598400000</td>\n",
       "      <td>1</td>\n",
       "      <td>50</td>\n",
       "      <td>1051</td>\n",
       "      <td>1282</td>\n",
       "      <td>181</td>\n",
       "      <td>76981</td>\n",
       "      <td>36689</td>\n",
       "      <td>3656</td>\n",
       "      <td>36636</td>\n",
       "    </tr>\n",
       "    <tr>\n",
       "      <th>178</th>\n",
       "      <td>2020-08-27 00:00:00+00:00</td>\n",
       "      <td>1598486400000</td>\n",
       "      <td>1</td>\n",
       "      <td>120</td>\n",
       "      <td>3166</td>\n",
       "      <td>2719</td>\n",
       "      <td>-567</td>\n",
       "      <td>162884</td>\n",
       "      <td>118575</td>\n",
       "      <td>7064</td>\n",
       "      <td>37245</td>\n",
       "    </tr>\n",
       "    <tr>\n",
       "      <th>197</th>\n",
       "      <td>2020-09-15 00:00:00+00:00</td>\n",
       "      <td>1600128000000</td>\n",
       "      <td>1</td>\n",
       "      <td>124</td>\n",
       "      <td>2660</td>\n",
       "      <td>3507</td>\n",
       "      <td>723</td>\n",
       "      <td>225030</td>\n",
       "      <td>161065</td>\n",
       "      <td>8965</td>\n",
       "      <td>55000</td>\n",
       "    </tr>\n",
       "    <tr>\n",
       "      <th>0</th>\n",
       "      <td>2020-03-02 00:00:00+00:00</td>\n",
       "      <td>1583107200000</td>\n",
       "      <td>1</td>\n",
       "      <td>0</td>\n",
       "      <td>0</td>\n",
       "      <td>2</td>\n",
       "      <td>2</td>\n",
       "      <td>2</td>\n",
       "      <td>0</td>\n",
       "      <td>0</td>\n",
       "      <td>2</td>\n",
       "    </tr>\n",
       "    <tr>\n",
       "      <th>477</th>\n",
       "      <td>2021-06-22 00:00:00+00:00</td>\n",
       "      <td>1624320000000</td>\n",
       "      <td>1</td>\n",
       "      <td>335</td>\n",
       "      <td>8375</td>\n",
       "      <td>13668</td>\n",
       "      <td>4958</td>\n",
       "      <td>2018113</td>\n",
       "      <td>1810136</td>\n",
       "      <td>55291</td>\n",
       "      <td>152686</td>\n",
       "    </tr>\n",
       "  </tbody>\n",
       "</table>\n",
       "</div>"
      ],
      "text/plain": [
       "                      tanggal            key  doc_count  jumlah_meninggal  \\\n",
       "133 2020-07-13 00:00:00+00:00  1594598400000          1                50   \n",
       "178 2020-08-27 00:00:00+00:00  1598486400000          1               120   \n",
       "197 2020-09-15 00:00:00+00:00  1600128000000          1               124   \n",
       "0   2020-03-02 00:00:00+00:00  1583107200000          1                 0   \n",
       "477 2021-06-22 00:00:00+00:00  1624320000000          1               335   \n",
       "\n",
       "     jumlah_sembuh  jumlah_positif  jumlah_dirawat  jumlah_positif_kum  \\\n",
       "133           1051            1282             181               76981   \n",
       "178           3166            2719            -567              162884   \n",
       "197           2660            3507             723              225030   \n",
       "0                0               2               2                   2   \n",
       "477           8375           13668            4958             2018113   \n",
       "\n",
       "     jumlah_sembuh_kum  jumlah_meninggal_kum  jumlah_dirawat_kum  \n",
       "133              36689                  3656               36636  \n",
       "178             118575                  7064               37245  \n",
       "197             161065                  8965               55000  \n",
       "0                    0                     0                   2  \n",
       "477            1810136                 55291              152686  "
      ]
     },
     "execution_count": 12,
     "metadata": {},
     "output_type": "execute_result"
    }
   ],
   "source": [
    "# Import the data to dataframe\n",
    "daily_cases = pd.DataFrame(data_py['update']['harian'])\n",
    "\n",
    "# Applying values to the columns\n",
    "daily_cases['jumlah_meninggal'] = daily_cases['jumlah_meninggal'].apply(lambda x: x['value'])\n",
    "daily_cases['jumlah_sembuh'] = daily_cases['jumlah_sembuh'].apply(lambda x: x['value'])\n",
    "daily_cases['jumlah_positif'] = daily_cases['jumlah_positif'].apply(lambda x: x['value'])\n",
    "daily_cases['jumlah_dirawat'] = daily_cases['jumlah_dirawat'].apply(lambda x: x['value'])\n",
    "daily_cases['jumlah_positif_kum'] = daily_cases['jumlah_positif_kum'].apply(lambda x: x['value'])\n",
    "daily_cases['jumlah_sembuh_kum'] = daily_cases['jumlah_sembuh_kum'].apply(lambda x: x['value'])\n",
    "daily_cases['jumlah_meninggal_kum'] = daily_cases['jumlah_meninggal_kum'].apply(lambda x: x['value'])\n",
    "daily_cases['jumlah_dirawat_kum'] = daily_cases['jumlah_dirawat_kum'].apply(lambda x: x['value'])\n",
    "\n",
    "# Change the data type\n",
    "daily_cases['key_as_string'] = pd.to_datetime(daily_cases['key_as_string'])\n",
    "\n",
    "# Change the column name\n",
    "daily_cases = daily_cases.rename(columns = {'key_as_string' : 'tanggal'})\n",
    "\n",
    "# View sample rows of the dataframe\n",
    "daily_cases.sample(5)"
   ]
  },
  {
   "cell_type": "code",
   "execution_count": 13,
   "id": "7e9a27b3-6044-435b-9fac-a5abf4692daa",
   "metadata": {},
   "outputs": [
    {
     "name": "stdout",
     "output_type": "stream",
     "text": [
      "<class 'pandas.core.frame.DataFrame'>\n",
      "RangeIndex: 624 entries, 0 to 623\n",
      "Data columns (total 11 columns):\n",
      " #   Column                Non-Null Count  Dtype              \n",
      "---  ------                --------------  -----              \n",
      " 0   tanggal               624 non-null    datetime64[ns, UTC]\n",
      " 1   key                   624 non-null    int64              \n",
      " 2   doc_count             624 non-null    int64              \n",
      " 3   jumlah_meninggal      624 non-null    int64              \n",
      " 4   jumlah_sembuh         624 non-null    int64              \n",
      " 5   jumlah_positif        624 non-null    int64              \n",
      " 6   jumlah_dirawat        624 non-null    int64              \n",
      " 7   jumlah_positif_kum    624 non-null    int64              \n",
      " 8   jumlah_sembuh_kum     624 non-null    int64              \n",
      " 9   jumlah_meninggal_kum  624 non-null    int64              \n",
      " 10  jumlah_dirawat_kum    624 non-null    int64              \n",
      "dtypes: datetime64[ns, UTC](1), int64(10)\n",
      "memory usage: 53.8 KB\n"
     ]
    }
   ],
   "source": [
    "# View information of the dataframe\n",
    "daily_cases.info()"
   ]
  },
  {
   "cell_type": "markdown",
   "id": "9b990aec-5015-45ff-bf81-755d4ff68a2a",
   "metadata": {},
   "source": [
    "## B.2. Data Cleaning"
   ]
  },
  {
   "cell_type": "code",
   "execution_count": 14,
   "id": "92e0a464-636f-40b1-a9cd-87f95568f5b7",
   "metadata": {},
   "outputs": [
    {
     "data": {
      "text/plain": [
       "False"
      ]
     },
     "execution_count": 14,
     "metadata": {},
     "output_type": "execute_result"
    }
   ],
   "source": [
    "# Check if there are duplicate values\n",
    "daily_cases.duplicated().any()"
   ]
  },
  {
   "cell_type": "markdown",
   "id": "e65c5bb1-04d2-4f4e-8729-05953de5832f",
   "metadata": {},
   "source": [
    "## B.3. Create Monthly Cases DataFrame"
   ]
  },
  {
   "cell_type": "code",
   "execution_count": 15,
   "id": "280136ee-84f8-4f65-b05d-4ee2213dae73",
   "metadata": {},
   "outputs": [
    {
     "data": {
      "text/html": [
       "<div>\n",
       "<style scoped>\n",
       "    .dataframe tbody tr th:only-of-type {\n",
       "        vertical-align: middle;\n",
       "    }\n",
       "\n",
       "    .dataframe tbody tr th {\n",
       "        vertical-align: top;\n",
       "    }\n",
       "\n",
       "    .dataframe thead th {\n",
       "        text-align: right;\n",
       "    }\n",
       "</style>\n",
       "<table border=\"1\" class=\"dataframe\">\n",
       "  <thead>\n",
       "    <tr style=\"text-align: right;\">\n",
       "      <th></th>\n",
       "      <th>bulan</th>\n",
       "      <th>jumlah_positif</th>\n",
       "      <th>jumlah_sembuh</th>\n",
       "      <th>jumlah_meninggal</th>\n",
       "    </tr>\n",
       "  </thead>\n",
       "  <tbody>\n",
       "    <tr>\n",
       "      <th>0</th>\n",
       "      <td>2020-03</td>\n",
       "      <td>1528</td>\n",
       "      <td>81</td>\n",
       "      <td>136</td>\n",
       "    </tr>\n",
       "    <tr>\n",
       "      <th>1</th>\n",
       "      <td>2020-04</td>\n",
       "      <td>8590</td>\n",
       "      <td>1441</td>\n",
       "      <td>656</td>\n",
       "    </tr>\n",
       "    <tr>\n",
       "      <th>2</th>\n",
       "      <td>2020-05</td>\n",
       "      <td>16355</td>\n",
       "      <td>5786</td>\n",
       "      <td>821</td>\n",
       "    </tr>\n",
       "    <tr>\n",
       "      <th>3</th>\n",
       "      <td>2020-06</td>\n",
       "      <td>29912</td>\n",
       "      <td>17498</td>\n",
       "      <td>1263</td>\n",
       "    </tr>\n",
       "    <tr>\n",
       "      <th>4</th>\n",
       "      <td>2020-07</td>\n",
       "      <td>51991</td>\n",
       "      <td>41101</td>\n",
       "      <td>2255</td>\n",
       "    </tr>\n",
       "    <tr>\n",
       "      <th>5</th>\n",
       "      <td>2020-08</td>\n",
       "      <td>66420</td>\n",
       "      <td>60052</td>\n",
       "      <td>2286</td>\n",
       "    </tr>\n",
       "    <tr>\n",
       "      <th>6</th>\n",
       "      <td>2020-09</td>\n",
       "      <td>112212</td>\n",
       "      <td>88988</td>\n",
       "      <td>3323</td>\n",
       "    </tr>\n",
       "    <tr>\n",
       "      <th>7</th>\n",
       "      <td>2020-10</td>\n",
       "      <td>123080</td>\n",
       "      <td>122854</td>\n",
       "      <td>3129</td>\n",
       "    </tr>\n",
       "    <tr>\n",
       "      <th>8</th>\n",
       "      <td>2020-11</td>\n",
       "      <td>128795</td>\n",
       "      <td>112717</td>\n",
       "      <td>3076</td>\n",
       "    </tr>\n",
       "    <tr>\n",
       "      <th>9</th>\n",
       "      <td>2020-12</td>\n",
       "      <td>204315</td>\n",
       "      <td>160579</td>\n",
       "      <td>5193</td>\n",
       "    </tr>\n",
       "    <tr>\n",
       "      <th>10</th>\n",
       "      <td>2021-01</td>\n",
       "      <td>335116</td>\n",
       "      <td>262124</td>\n",
       "      <td>7860</td>\n",
       "    </tr>\n",
       "    <tr>\n",
       "      <th>11</th>\n",
       "      <td>2021-02</td>\n",
       "      <td>256320</td>\n",
       "      <td>269482</td>\n",
       "      <td>6168</td>\n",
       "    </tr>\n",
       "    <tr>\n",
       "      <th>12</th>\n",
       "      <td>2021-03</td>\n",
       "      <td>177078</td>\n",
       "      <td>205627</td>\n",
       "      <td>4692</td>\n",
       "    </tr>\n",
       "    <tr>\n",
       "      <th>13</th>\n",
       "      <td>2021-04</td>\n",
       "      <td>156656</td>\n",
       "      <td>174304</td>\n",
       "      <td>4663</td>\n",
       "    </tr>\n",
       "    <tr>\n",
       "      <th>14</th>\n",
       "      <td>2021-05</td>\n",
       "      <td>153335</td>\n",
       "      <td>146485</td>\n",
       "      <td>5057</td>\n",
       "    </tr>\n",
       "    <tr>\n",
       "      <th>15</th>\n",
       "      <td>2021-06</td>\n",
       "      <td>356569</td>\n",
       "      <td>211294</td>\n",
       "      <td>7913</td>\n",
       "    </tr>\n",
       "    <tr>\n",
       "      <th>16</th>\n",
       "      <td>2021-07</td>\n",
       "      <td>1231386</td>\n",
       "      <td>889679</td>\n",
       "      <td>35628</td>\n",
       "    </tr>\n",
       "    <tr>\n",
       "      <th>17</th>\n",
       "      <td>2021-08</td>\n",
       "      <td>680143</td>\n",
       "      <td>990405</td>\n",
       "      <td>38904</td>\n",
       "    </tr>\n",
       "    <tr>\n",
       "      <th>18</th>\n",
       "      <td>2021-09</td>\n",
       "      <td>125303</td>\n",
       "      <td>276527</td>\n",
       "      <td>8916</td>\n",
       "    </tr>\n",
       "    <tr>\n",
       "      <th>19</th>\n",
       "      <td>2021-10</td>\n",
       "      <td>29254</td>\n",
       "      <td>51611</td>\n",
       "      <td>1466</td>\n",
       "    </tr>\n",
       "    <tr>\n",
       "      <th>20</th>\n",
       "      <td>2021-11</td>\n",
       "      <td>6718</td>\n",
       "      <td>10249</td>\n",
       "      <td>265</td>\n",
       "    </tr>\n",
       "  </tbody>\n",
       "</table>\n",
       "</div>"
      ],
      "text/plain": [
       "      bulan  jumlah_positif  jumlah_sembuh  jumlah_meninggal\n",
       "0   2020-03            1528             81               136\n",
       "1   2020-04            8590           1441               656\n",
       "2   2020-05           16355           5786               821\n",
       "3   2020-06           29912          17498              1263\n",
       "4   2020-07           51991          41101              2255\n",
       "5   2020-08           66420          60052              2286\n",
       "6   2020-09          112212          88988              3323\n",
       "7   2020-10          123080         122854              3129\n",
       "8   2020-11          128795         112717              3076\n",
       "9   2020-12          204315         160579              5193\n",
       "10  2021-01          335116         262124              7860\n",
       "11  2021-02          256320         269482              6168\n",
       "12  2021-03          177078         205627              4692\n",
       "13  2021-04          156656         174304              4663\n",
       "14  2021-05          153335         146485              5057\n",
       "15  2021-06          356569         211294              7913\n",
       "16  2021-07         1231386         889679             35628\n",
       "17  2021-08          680143         990405             38904\n",
       "18  2021-09          125303         276527              8916\n",
       "19  2021-10           29254          51611              1466\n",
       "20  2021-11            6718          10249               265"
      ]
     },
     "execution_count": 15,
     "metadata": {},
     "output_type": "execute_result"
    }
   ],
   "source": [
    "# Group by month from the date column\n",
    "monthly_cases = daily_cases.groupby(daily_cases['tanggal'].dt.strftime('%Y-%m'))[['jumlah_positif', 'jumlah_sembuh', 'jumlah_meninggal']].sum().sort_values(by = 'tanggal').reset_index(drop = False)\n",
    "\n",
    "# Change the column name\n",
    "monthly_cases = monthly_cases.rename(columns = {'tanggal' : 'bulan'})\n",
    "\n",
    "# View the dataframe\n",
    "monthly_cases"
   ]
  },
  {
   "cell_type": "code",
   "execution_count": 16,
   "id": "84a89ece-219d-4fc1-925b-f4b88dfef952",
   "metadata": {},
   "outputs": [
    {
     "name": "stdout",
     "output_type": "stream",
     "text": [
      "<class 'pandas.core.frame.DataFrame'>\n",
      "RangeIndex: 21 entries, 0 to 20\n",
      "Data columns (total 4 columns):\n",
      " #   Column            Non-Null Count  Dtype \n",
      "---  ------            --------------  ----- \n",
      " 0   bulan             21 non-null     object\n",
      " 1   jumlah_positif    21 non-null     int64 \n",
      " 2   jumlah_sembuh     21 non-null     int64 \n",
      " 3   jumlah_meninggal  21 non-null     int64 \n",
      "dtypes: int64(3), object(1)\n",
      "memory usage: 800.0+ bytes\n"
     ]
    }
   ],
   "source": [
    "# View information of the dataframe\n",
    "monthly_cases.info()"
   ]
  },
  {
   "cell_type": "markdown",
   "id": "a26bd779-d4ab-4a4f-8b15-044af5a72b4e",
   "metadata": {},
   "source": [
    "## A.6. Descriptive Statistics"
   ]
  },
  {
   "cell_type": "code",
   "execution_count": 17,
   "id": "fce530fc-3f67-4d45-962d-92543c15237c",
   "metadata": {},
   "outputs": [
    {
     "data": {
      "text/html": [
       "<div>\n",
       "<style scoped>\n",
       "    .dataframe tbody tr th:only-of-type {\n",
       "        vertical-align: middle;\n",
       "    }\n",
       "\n",
       "    .dataframe tbody tr th {\n",
       "        vertical-align: top;\n",
       "    }\n",
       "\n",
       "    .dataframe thead th {\n",
       "        text-align: right;\n",
       "    }\n",
       "</style>\n",
       "<table border=\"1\" class=\"dataframe\">\n",
       "  <thead>\n",
       "    <tr style=\"text-align: right;\">\n",
       "      <th></th>\n",
       "      <th>key</th>\n",
       "      <th>doc_count</th>\n",
       "      <th>jumlah_meninggal</th>\n",
       "      <th>jumlah_sembuh</th>\n",
       "      <th>jumlah_positif</th>\n",
       "      <th>jumlah_dirawat</th>\n",
       "      <th>jumlah_positif_kum</th>\n",
       "      <th>jumlah_sembuh_kum</th>\n",
       "      <th>jumlah_meninggal_kum</th>\n",
       "      <th>jumlah_dirawat_kum</th>\n",
       "    </tr>\n",
       "  </thead>\n",
       "  <tbody>\n",
       "    <tr>\n",
       "      <th>count</th>\n",
       "      <td>6.240000e+02</td>\n",
       "      <td>624.000000</td>\n",
       "      <td>624.000000</td>\n",
       "      <td>624.000000</td>\n",
       "      <td>624.000000</td>\n",
       "      <td>624.000000</td>\n",
       "      <td>6.240000e+02</td>\n",
       "      <td>6.240000e+02</td>\n",
       "      <td>624.000000</td>\n",
       "      <td>624.000000</td>\n",
       "    </tr>\n",
       "    <tr>\n",
       "      <th>mean</th>\n",
       "      <td>1.610021e+12</td>\n",
       "      <td>1.003205</td>\n",
       "      <td>230.240385</td>\n",
       "      <td>6568.724359</td>\n",
       "      <td>6812.621795</td>\n",
       "      <td>13.657051</td>\n",
       "      <td>1.366245e+06</td>\n",
       "      <td>1.221004e+06</td>\n",
       "      <td>41907.866987</td>\n",
       "      <td>103332.971154</td>\n",
       "    </tr>\n",
       "    <tr>\n",
       "      <th>std</th>\n",
       "      <td>1.557598e+10</td>\n",
       "      <td>0.056568</td>\n",
       "      <td>363.156436</td>\n",
       "      <td>9123.226056</td>\n",
       "      <td>9632.242303</td>\n",
       "      <td>4931.980888</td>\n",
       "      <td>1.458799e+06</td>\n",
       "      <td>1.362515e+06</td>\n",
       "      <td>46877.669885</td>\n",
       "      <td>120261.286411</td>\n",
       "    </tr>\n",
       "    <tr>\n",
       "      <th>min</th>\n",
       "      <td>1.583107e+12</td>\n",
       "      <td>1.000000</td>\n",
       "      <td>0.000000</td>\n",
       "      <td>0.000000</td>\n",
       "      <td>0.000000</td>\n",
       "      <td>-25725.000000</td>\n",
       "      <td>2.000000e+00</td>\n",
       "      <td>0.000000e+00</td>\n",
       "      <td>0.000000</td>\n",
       "      <td>2.000000</td>\n",
       "    </tr>\n",
       "    <tr>\n",
       "      <th>25%</th>\n",
       "      <td>1.596564e+12</td>\n",
       "      <td>1.000000</td>\n",
       "      <td>52.000000</td>\n",
       "      <td>1082.500000</td>\n",
       "      <td>1238.250000</td>\n",
       "      <td>-659.250000</td>\n",
       "      <td>1.164172e+05</td>\n",
       "      <td>7.342925e+04</td>\n",
       "      <td>5436.000000</td>\n",
       "      <td>27663.000000</td>\n",
       "    </tr>\n",
       "    <tr>\n",
       "      <th>50%</th>\n",
       "      <td>1.610021e+12</td>\n",
       "      <td>1.000000</td>\n",
       "      <td>116.000000</td>\n",
       "      <td>3921.500000</td>\n",
       "      <td>4170.500000</td>\n",
       "      <td>150.500000</td>\n",
       "      <td>8.030315e+05</td>\n",
       "      <td>6.631600e+05</td>\n",
       "      <td>23636.500000</td>\n",
       "      <td>63659.000000</td>\n",
       "    </tr>\n",
       "    <tr>\n",
       "      <th>75%</th>\n",
       "      <td>1.623478e+12</td>\n",
       "      <td>1.000000</td>\n",
       "      <td>196.250000</td>\n",
       "      <td>7166.250000</td>\n",
       "      <td>6830.750000</td>\n",
       "      <td>674.750000</td>\n",
       "      <td>1.903957e+06</td>\n",
       "      <td>1.741600e+06</td>\n",
       "      <td>52767.250000</td>\n",
       "      <td>125285.000000</td>\n",
       "    </tr>\n",
       "    <tr>\n",
       "      <th>max</th>\n",
       "      <td>1.636934e+12</td>\n",
       "      <td>2.000000</td>\n",
       "      <td>2069.000000</td>\n",
       "      <td>48832.000000</td>\n",
       "      <td>56757.000000</td>\n",
       "      <td>36726.000000</td>\n",
       "      <td>4.251076e+06</td>\n",
       "      <td>4.098884e+06</td>\n",
       "      <td>143670.000000</td>\n",
       "      <td>574135.000000</td>\n",
       "    </tr>\n",
       "  </tbody>\n",
       "</table>\n",
       "</div>"
      ],
      "text/plain": [
       "                key   doc_count  jumlah_meninggal  jumlah_sembuh  \\\n",
       "count  6.240000e+02  624.000000        624.000000     624.000000   \n",
       "mean   1.610021e+12    1.003205        230.240385    6568.724359   \n",
       "std    1.557598e+10    0.056568        363.156436    9123.226056   \n",
       "min    1.583107e+12    1.000000          0.000000       0.000000   \n",
       "25%    1.596564e+12    1.000000         52.000000    1082.500000   \n",
       "50%    1.610021e+12    1.000000        116.000000    3921.500000   \n",
       "75%    1.623478e+12    1.000000        196.250000    7166.250000   \n",
       "max    1.636934e+12    2.000000       2069.000000   48832.000000   \n",
       "\n",
       "       jumlah_positif  jumlah_dirawat  jumlah_positif_kum  jumlah_sembuh_kum  \\\n",
       "count      624.000000      624.000000        6.240000e+02       6.240000e+02   \n",
       "mean      6812.621795       13.657051        1.366245e+06       1.221004e+06   \n",
       "std       9632.242303     4931.980888        1.458799e+06       1.362515e+06   \n",
       "min          0.000000   -25725.000000        2.000000e+00       0.000000e+00   \n",
       "25%       1238.250000     -659.250000        1.164172e+05       7.342925e+04   \n",
       "50%       4170.500000      150.500000        8.030315e+05       6.631600e+05   \n",
       "75%       6830.750000      674.750000        1.903957e+06       1.741600e+06   \n",
       "max      56757.000000    36726.000000        4.251076e+06       4.098884e+06   \n",
       "\n",
       "       jumlah_meninggal_kum  jumlah_dirawat_kum  \n",
       "count            624.000000          624.000000  \n",
       "mean           41907.866987       103332.971154  \n",
       "std            46877.669885       120261.286411  \n",
       "min                0.000000            2.000000  \n",
       "25%             5436.000000        27663.000000  \n",
       "50%            23636.500000        63659.000000  \n",
       "75%            52767.250000       125285.000000  \n",
       "max           143670.000000       574135.000000  "
      ]
     },
     "execution_count": 17,
     "metadata": {},
     "output_type": "execute_result"
    }
   ],
   "source": [
    "# Descriptive statistics of the daily cases\n",
    "daily_cases.describe()"
   ]
  },
  {
   "cell_type": "code",
   "execution_count": 18,
   "id": "a8fca774-8645-43fa-a58c-e32f3a58c4af",
   "metadata": {},
   "outputs": [
    {
     "data": {
      "text/html": [
       "<div>\n",
       "<style scoped>\n",
       "    .dataframe tbody tr th:only-of-type {\n",
       "        vertical-align: middle;\n",
       "    }\n",
       "\n",
       "    .dataframe tbody tr th {\n",
       "        vertical-align: top;\n",
       "    }\n",
       "\n",
       "    .dataframe thead th {\n",
       "        text-align: right;\n",
       "    }\n",
       "</style>\n",
       "<table border=\"1\" class=\"dataframe\">\n",
       "  <thead>\n",
       "    <tr style=\"text-align: right;\">\n",
       "      <th></th>\n",
       "      <th>jumlah_positif</th>\n",
       "      <th>jumlah_sembuh</th>\n",
       "      <th>jumlah_meninggal</th>\n",
       "    </tr>\n",
       "  </thead>\n",
       "  <tbody>\n",
       "    <tr>\n",
       "      <th>count</th>\n",
       "      <td>2.100000e+01</td>\n",
       "      <td>21.000000</td>\n",
       "      <td>21.000000</td>\n",
       "    </tr>\n",
       "    <tr>\n",
       "      <th>mean</th>\n",
       "      <td>2.024322e+05</td>\n",
       "      <td>195184.952381</td>\n",
       "      <td>6841.428571</td>\n",
       "    </tr>\n",
       "    <tr>\n",
       "      <th>std</th>\n",
       "      <td>2.840715e+05</td>\n",
       "      <td>264467.683017</td>\n",
       "      <td>10449.267743</td>\n",
       "    </tr>\n",
       "    <tr>\n",
       "      <th>min</th>\n",
       "      <td>1.528000e+03</td>\n",
       "      <td>81.000000</td>\n",
       "      <td>136.000000</td>\n",
       "    </tr>\n",
       "    <tr>\n",
       "      <th>25%</th>\n",
       "      <td>2.991200e+04</td>\n",
       "      <td>41101.000000</td>\n",
       "      <td>1466.000000</td>\n",
       "    </tr>\n",
       "    <tr>\n",
       "      <th>50%</th>\n",
       "      <td>1.253030e+05</td>\n",
       "      <td>122854.000000</td>\n",
       "      <td>3323.000000</td>\n",
       "    </tr>\n",
       "    <tr>\n",
       "      <th>75%</th>\n",
       "      <td>2.043150e+05</td>\n",
       "      <td>211294.000000</td>\n",
       "      <td>6168.000000</td>\n",
       "    </tr>\n",
       "    <tr>\n",
       "      <th>max</th>\n",
       "      <td>1.231386e+06</td>\n",
       "      <td>990405.000000</td>\n",
       "      <td>38904.000000</td>\n",
       "    </tr>\n",
       "  </tbody>\n",
       "</table>\n",
       "</div>"
      ],
      "text/plain": [
       "       jumlah_positif  jumlah_sembuh  jumlah_meninggal\n",
       "count    2.100000e+01      21.000000         21.000000\n",
       "mean     2.024322e+05  195184.952381       6841.428571\n",
       "std      2.840715e+05  264467.683017      10449.267743\n",
       "min      1.528000e+03      81.000000        136.000000\n",
       "25%      2.991200e+04   41101.000000       1466.000000\n",
       "50%      1.253030e+05  122854.000000       3323.000000\n",
       "75%      2.043150e+05  211294.000000       6168.000000\n",
       "max      1.231386e+06  990405.000000      38904.000000"
      ]
     },
     "execution_count": 18,
     "metadata": {},
     "output_type": "execute_result"
    }
   ],
   "source": [
    "# Descriptive statistics of the monthly cases\n",
    "monthly_cases.describe()"
   ]
  },
  {
   "cell_type": "markdown",
   "id": "5f7d7db4-c134-4f0a-871d-6c4622d0f109",
   "metadata": {},
   "source": [
    "# C. DESCRIPTIVE ANALYSIS"
   ]
  },
  {
   "cell_type": "markdown",
   "id": "44e93073-4700-4f2a-b231-6a7c1e3d2b65",
   "metadata": {
    "tags": []
   },
   "source": [
    "## C.1 Set the Default Parameter"
   ]
  },
  {
   "cell_type": "code",
   "execution_count": 19,
   "id": "2d686be9-6f57-47ec-a801-3df75d0adb9f",
   "metadata": {},
   "outputs": [],
   "source": [
    "plt.rcParams['figure.figsize'] = 16, 6\n",
    "plt.rcParams['lines.linewidth'] = 1\n",
    "plt.rcParams['xtick.labelsize'] = 'medium'\n",
    "plt.rcParams['ytick.labelsize'] = 'medium'\n",
    "plt.rcParams['axes.titlepad'] = 20"
   ]
  },
  {
   "cell_type": "markdown",
   "id": "4cdc7064-7b39-4739-a16f-613ed2c5291d",
   "metadata": {
    "tags": []
   },
   "source": [
    "## C.2 Monthly Cases Bar Chart"
   ]
  },
  {
   "cell_type": "code",
   "execution_count": 20,
   "id": "b0a9dc61-0f1a-47f0-aafc-a80ac8d796f8",
   "metadata": {
    "tags": []
   },
   "outputs": [
    {
     "data": {
      "image/png": "[encoded data removed]",
      "text/plain": [
       "<Figure size 1152x576 with 3 Axes>"
      ]
     },
     "metadata": {
      "needs_background": "light"
     },
     "output_type": "display_data"
    }
   ],
   "source": [
    "plt.figure(figsize = (16,8))\n",
    "plt.suptitle('INDONESIAN COVID-19 MONTHLY CASES',\n",
    "             fontsize = 20)\n",
    "\n",
    "# Subplot 1: positive cases\n",
    "plt.subplot(1, 3, 1)\n",
    "plt.bar(monthly_cases['bulan'],\n",
    "        monthly_cases['jumlah_positif'],\n",
    "        color = 'red',\n",
    "        label = 'Positive')\n",
    "plt.xlabel('Date',\n",
    "           labelpad = 15)\n",
    "plt.ylabel('Cases',\n",
    "           labelpad = 10)\n",
    "plt.xticks(rotation = 90,\n",
    "           fontsize = 8)\n",
    "plt.yticks(rotation = 0)\n",
    "plt.legend(loc = 'upper left',\n",
    "           bbox_to_anchor =(0, 1),\n",
    "           ncol = 1)\n",
    "\n",
    "# Subplot 2: recovered cases\n",
    "plt.subplot(1, 3, 2)\n",
    "plt.bar(monthly_cases['bulan'],\n",
    "        monthly_cases['jumlah_sembuh'],\n",
    "        color = 'blue',\n",
    "        label = 'Recovered')\n",
    "plt.xlabel('Date',\n",
    "           labelpad = 15)\n",
    "plt.ylabel('Cases',\n",
    "           labelpad = 10)\n",
    "plt.xticks(rotation = 90,\n",
    "           fontsize = 8)\n",
    "plt.yticks(rotation = 0)\n",
    "plt.legend(loc = 'upper left',\n",
    "           bbox_to_anchor =(0, 1),\n",
    "           ncol = 1)\n",
    "\n",
    "# Subplot 3: dead cases\n",
    "plt.subplot(1, 3, 3)\n",
    "plt.bar(monthly_cases['bulan'],\n",
    "        monthly_cases['jumlah_meninggal'],\n",
    "        color = 'purple',\n",
    "        label = 'Dead')\n",
    "plt.xlabel('Date',\n",
    "           labelpad = 15)\n",
    "plt.ylabel('Cases',\n",
    "           labelpad = 10)\n",
    "plt.xticks(rotation = 90,\n",
    "           fontsize = 8)\n",
    "plt.yticks(rotation = 90)\n",
    "plt.legend(loc = 'upper left',\n",
    "           bbox_to_anchor =(0, 1),\n",
    "           ncol = 1)\n",
    "\n",
    "# Show the bar chart\n",
    "plt.show()"
   ]
  },
  {
   "cell_type": "markdown",
   "id": "445229ab-bb6f-4267-bca9-88e309534b30",
   "metadata": {},
   "source": [
    "## C.3. Daily Cases Line Chart"
   ]
  },
  {
   "cell_type": "code",
   "execution_count": 21,
   "id": "131d970e-41a8-41ee-b788-8a87ac1074fa",
   "metadata": {
    "tags": []
   },
   "outputs": [
    {
     "data": {
      "image/png": "[encoded data removed]",
      "text/plain": [
       "<Figure size 1152x504 with 3 Axes>"
      ]
     },
     "metadata": {
      "needs_background": "light"
     },
     "output_type": "display_data"
    }
   ],
   "source": [
    "plt.figure(figsize = (16,7))\n",
    "plt.suptitle('INDONESIAN COVID-19 DAILY CASES',\n",
    "             fontsize = 20)\n",
    "\n",
    "# Subplot 1: positive cases\n",
    "plt.subplot(1, 3, 1)\n",
    "plt.plot(daily_cases['tanggal'],\n",
    "         daily_cases['jumlah_positif_kum'],\n",
    "         color = 'red',\n",
    "         label = 'Positive')\n",
    "plt.xlabel('Date',\n",
    "           labelpad = 15)\n",
    "plt.ylabel('Cases',\n",
    "           labelpad = 10)\n",
    "plt.xticks(rotation = 90,\n",
    "           fontsize = 8)\n",
    "plt.yticks(rotation = 0)\n",
    "plt.legend(loc = 'upper left',\n",
    "           bbox_to_anchor =(0, 1),\n",
    "           ncol = 1)\n",
    "\n",
    "# Subplot 2: recovered cases\n",
    "plt.subplot(1, 3, 2)\n",
    "plt.plot(daily_cases['tanggal'],\n",
    "         daily_cases['jumlah_sembuh_kum'],\n",
    "         color = 'blue',\n",
    "         label = 'Recovered')\n",
    "plt.xlabel('Date',\n",
    "           labelpad = 15)\n",
    "plt.ylabel('Cases',\n",
    "           labelpad = 10)\n",
    "plt.xticks(rotation = 90,\n",
    "           fontsize = 8)\n",
    "plt.yticks(rotation = 0)\n",
    "plt.legend(loc = 'upper left',\n",
    "           bbox_to_anchor =(0, 1),\n",
    "           ncol = 1)\n",
    "\n",
    "# Subplot 3: dead cases\n",
    "plt.subplot(1, 3, 3)\n",
    "plt.plot(daily_cases['tanggal'],\n",
    "         daily_cases['jumlah_meninggal_kum'],\n",
    "         color = 'purple',\n",
    "         label = 'Dead')\n",
    "plt.xlabel('Date',\n",
    "           labelpad = 15)\n",
    "plt.ylabel('Cases',\n",
    "           labelpad = 15)\n",
    "plt.xticks(rotation = 90,\n",
    "           fontsize = 8)\n",
    "plt.yticks(rotation = 90)\n",
    "plt.legend(loc = 'upper left',\n",
    "           bbox_to_anchor =(0, 1),\n",
    "           ncol = 1)\n",
    "\n",
    "# Show the line chart\n",
    "plt.show()"
   ]
  },
  {
   "cell_type": "markdown",
   "id": "6f206c3e-b84f-47eb-b173-2cfd5bbb98be",
   "metadata": {
    "tags": []
   },
   "source": [
    "# D. DATA EXPORT"
   ]
  },
  {
   "cell_type": "markdown",
   "id": "47d759dd-9ebc-4225-a695-1738506481a9",
   "metadata": {},
   "source": [
    "Export the Daily Cases Data to CSV Format"
   ]
  },
  {
   "cell_type": "code",
   "execution_count": 22,
   "id": "685c5ee5-fd5a-43c6-8c62-fb9d04e3beb2",
   "metadata": {},
   "outputs": [],
   "source": [
    "# Current date and time\n",
    "now = dt.datetime.now().strftime('%Y%m%d_%H%M%S')\n",
    "\n",
    "# Export to CSV Format\n",
    "daily_cases.to_csv('indonesian_covid19_daily_' + now +'.csv', index=False)"
   ]
  }
 ],
 "metadata": {
  "kernelspec": {
   "display_name": "Python 3 (ipykernel)",
   "language": "python",
   "name": "python3"
  },
  "language_info": {
   "codemirror_mode": {
    "name": "ipython",
    "version": 3
   },
   "file_extension": ".py",
   "mimetype": "text/x-python",
   "name": "python",
   "nbconvert_exporter": "python",
   "pygments_lexer": "ipython3",
   "version": "3.8.12"
  }
 },
 "nbformat": 4,
 "nbformat_minor": 5
}
